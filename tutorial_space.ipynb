{
 "cells": [
  {
   "cell_type": "markdown",
   "id": "02b58866",
   "metadata": {},
   "source": [
    "# Intro to Python Tutorial"
   ]
  },
  {
   "cell_type": "markdown",
   "id": "f89ee6f7",
   "metadata": {},
   "source": [
    "Follow the *Pandas Tutorial* starting at this page: https://www.w3schools.com/python/pandas/pandas_series.asp"
   ]
  },
  {
   "cell_type": "code",
   "execution_count": 1,
   "id": "2f5b238d",
   "metadata": {},
   "outputs": [
    {
     "name": "stdout",
     "output_type": "stream",
     "text": [
      "0    1\n",
      "1    7\n",
      "2    2\n",
      "dtype: int64\n"
     ]
    }
   ],
   "source": [
    "import pandas as pd\n",
    "\n",
    "a = [1, 7, 2]\n",
    "\n",
    "myvar = pd.Series(a)\n",
    "\n",
    "print(myvar)"
   ]
  },
  {
   "cell_type": "code",
   "execution_count": null,
   "id": "7ffa01c1",
   "metadata": {},
   "outputs": [],
   "source": []
  }
 ],
 "metadata": {
  "kernelspec": {
   "display_name": "Python 3",
   "language": "python",
   "name": "python3"
  },
  "language_info": {
   "codemirror_mode": {
    "name": "ipython",
    "version": 3
   },
   "file_extension": ".py",
   "mimetype": "text/x-python",
   "name": "python",
   "nbconvert_exporter": "python",
   "pygments_lexer": "ipython3",
   "version": "3.10.18"
  }
 },
 "nbformat": 4,
 "nbformat_minor": 5
}
